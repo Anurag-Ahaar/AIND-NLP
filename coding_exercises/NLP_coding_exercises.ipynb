{
 "cells": [
  {
   "cell_type": "markdown",
   "metadata": {
    "deletable": true,
    "editable": true
   },
   "source": [
    "## Counting Words"
   ]
  },
  {
   "cell_type": "code",
   "execution_count": null,
   "metadata": {
    "collapsed": false,
    "deletable": true,
    "editable": true
   },
   "outputs": [],
   "source": [
    "%%writefile input.txt\n",
    "\n",
    "As I was waiting, a man came out of a side room, and at a glance I was sure he must be Long John. His left leg was cut off close by the hip, and under the left shoulder he carried a crutch, which he managed with wonderful dexterity, hopping about upon it like a bird. He was very tall and strong, with a face as big as a ham—plain and pale, but intelligent and smiling. Indeed, he seemed in the most cheerful spirits, whistling as he moved about among the tables, with a merry word or a slap on the shoulder for the more favoured of his guests."
   ]
  },
  {
   "cell_type": "code",
   "execution_count": null,
   "metadata": {
    "collapsed": false,
    "deletable": true,
    "editable": true
   },
   "outputs": [],
   "source": [
    "with open(\"input.txt\", \"r\") as f:\n",
    "        text = f.read()\n",
    "        text= text.lower()\n",
    "        print(text)\n",
    "        \n",
    "        import re\n",
    "        pattern= \"[^a-zA-Z0-9]\"\n",
    "        text= re.split(pattern, text)\n",
    "        print(text)\n",
    "        \n",
    "        "
   ]
  },
  {
   "cell_type": "code",
   "execution_count": null,
   "metadata": {
    "collapsed": false,
    "deletable": true,
    "editable": true
   },
   "outputs": [],
   "source": [
    "\"\"\"Count words.\"\"\"\n",
    "\n",
    "def count_words(text):\n",
    "    \"\"\"Count how many times each unique word occurs in text.\"\"\"\n",
    "    counts = dict()  # dictionary of { <word>: <count> } pairs to return\n",
    "    \n",
    "    # TODO: Convert to lowercase\n",
    "    text= text.lower()\n",
    "    \n",
    "    # TODO: Split text into tokens (words), leaving out punctuation\n",
    "    # (Hint: Use regex to split on non-alphanumeric characters)\n",
    "    import re\n",
    "    pattern= \"[^a-z0-9]\"\n",
    "    text= re.split(pattern, text)\n",
    "    # remove pesky empty strings\n",
    "    text= filter(None, text)\n",
    "    \n",
    "    # TODO: Aggregate word counts using a dictionary\n",
    "    import collections\n",
    "    counts= collections.Counter()\n",
    "    counts.update(text)\n",
    "    \n",
    "    return counts\n",
    "\n",
    "\n",
    "def test_run(my_input_text):\n",
    "    with open(my_input_text, \"r\") as f:\n",
    "        text = f.read()\n",
    "        counts = count_words(text)\n",
    "        sorted_counts = sorted(counts.items(), key=lambda pair: pair[1], reverse=True)\n",
    "        \n",
    "        print(\"10 most common words:\\nWord\\tCount\")\n",
    "        for word, count in sorted_counts[:10]:\n",
    "            print(\"{}\\t{}\".format(word, count))\n",
    "        \n",
    "        print(\"\\n10 least common words:\\nWord\\tCount\")\n",
    "        for word, count in sorted_counts[-10:]:\n",
    "            print(\"{}\\t{}\".format(word, count))\n",
    "\n",
    "\n",
    "if __name__ == \"__main__\":\n",
    "    test_run(\"input.txt\")\n"
   ]
  },
  {
   "cell_type": "code",
   "execution_count": null,
   "metadata": {
    "collapsed": false,
    "deletable": true,
    "editable": true
   },
   "outputs": [],
   "source": [
    "%%writefile test_case2.txt\n",
    "Buffalo buffalo Buffalo, buffalo buffalo!"
   ]
  },
  {
   "cell_type": "code",
   "execution_count": null,
   "metadata": {
    "collapsed": true,
    "deletable": true,
    "editable": true
   },
   "outputs": [],
   "source": [
    "my_string= \"Buffalo buffalo Buffalo, buffalo buffalo!\""
   ]
  },
  {
   "cell_type": "code",
   "execution_count": null,
   "metadata": {
    "collapsed": false,
    "deletable": true,
    "editable": true
   },
   "outputs": [],
   "source": [
    "my_string= my_string.lower()\n",
    "my_string"
   ]
  },
  {
   "cell_type": "code",
   "execution_count": null,
   "metadata": {
    "collapsed": false,
    "deletable": true,
    "editable": true
   },
   "outputs": [],
   "source": [
    "pattern= \"[^a-z0-9]\"\n",
    "my_string= re.search(pattern, my_string)\n",
    "my_string.groups()"
   ]
  },
  {
   "cell_type": "code",
   "execution_count": null,
   "metadata": {
    "collapsed": false,
    "deletable": true,
    "editable": true
   },
   "outputs": [],
   "source": [
    "test_run(\"test_case2.txt\")"
   ]
  },
  {
   "cell_type": "markdown",
   "metadata": {},
   "source": [
    "## Read Text Files"
   ]
  },
  {
   "cell_type": "code",
   "execution_count": null,
   "metadata": {
    "collapsed": true
   },
   "outputs": [],
   "source": [
    "\"\"\"Reading in text files.\"\"\"\n",
    "\n",
    "def read_file(filename):\n",
    "    \"\"\"Read a plain text file and return the contents as a string.\"\"\"\n",
    "    with open(filename, 'r') as f:\n",
    "        text= f.read()\n",
    "        return text\n",
    "\n",
    "\n",
    "def read_files(path):\n",
    "    \"\"\"Read all files that match given path and return a dict with their contents.\"\"\"\n",
    "    import glob\n",
    "    import os\n",
    "    \n",
    "    #import pdb;pdb.set_trace()\n",
    "    # Get a list of all files and filenames\n",
    "    file_list= glob.glob(path)   \n",
    "    filenames= [os.path.basename(file_path) for file_path in file_list]\n",
    "    \n",
    "    \n",
    "    # Read each file using read_file()  and place assaemble dict of form { <filename>: <contents> }\n",
    "    contents= [read_file(file_path) for file_path in file_list]\n",
    "    \n",
    "    contents_dict= dict(zip(filenames, contents))\n",
    "    \n",
    "    return contents_dict\n",
    "\n",
    "\n",
    "def test_run():\n",
    "    # Test read_file()\n",
    "    print(read_file(\"data/hieroglyph.txt\"))\n",
    "    \n",
    "    # Test read_files()\n",
    "    texts = read_files(\"data/*.txt\")\n",
    "    for name in texts:\n",
    "        print(\"\\n***\", name, \"***\")\n",
    "        print(texts[name])\n",
    "\n",
    "\n",
    "if __name__ == '__main__':\n",
    "    test_run()\n"
   ]
  },
  {
   "cell_type": "markdown",
   "metadata": {
    "collapsed": true,
    "deletable": true,
    "editable": true
   },
   "source": [
    "## Bigram Model"
   ]
  },
  {
   "cell_type": "code",
   "execution_count": null,
   "metadata": {
    "collapsed": true
   },
   "outputs": [],
   "source": []
  },
  {
   "cell_type": "code",
   "execution_count": 8,
   "metadata": {
    "collapsed": false
   },
   "outputs": [],
   "source": [
    "# %load bigram.py\n",
    "\"\"\"Bigram Model.\"\"\"\n",
    "\n",
    "import os\n",
    "import re\n",
    "import random\n",
    "import collections\n",
    "\n",
    "\n",
    "def read_file(filename):\n",
    "    \"\"\"Read a plain text file and return the contents as a string.\"\"\"\n",
    "    with open(filename, 'r') as f:\n",
    "        text= f.read()\n",
    "        return text\n",
    "\n",
    "    \n",
    "\n",
    "def compute_bigram_model(path, files):\n",
    "    \"\"\"Compute a bigram model for a given corpus, including unigram probabilities.\n",
    "\n",
    "    Params\n",
    "    ======\n",
    "        path: directory where input files are located\n",
    "        files: list of files, or a single string specifying regex pattern to match (e.g. r'.*\\.txt')\n",
    "\n",
    "    Returns\n",
    "    =======\n",
    "        p_unigrams: dict with frequency of single words (need not be normalized to [0, 1])\n",
    "        p_bigrams: dict of dicts with frequency of bigrams (need not be normalized to [0, 1])\n",
    "\n",
    "    \"\"\"\n",
    "\n",
    "    # Grab a list of all files in specified corpus\n",
    "    import pdb;pdb.set_trace()\n",
    "    if isinstance(files, str):\n",
    "        files = [f for f in os.listdir(path) if re.match(files, f)]  # collect all matching filenames\n",
    "    files = [os.path.join(path, f) for f in files]  # prepend path to each filename\n",
    "\n",
    "    # Read in text from each file and combine into a single string\n",
    "    filenames= [os.path.basename(file_path) for file_path in files]\n",
    "    contents= [read_file(file_path) for file_path in files]    \n",
    "    contents_dict= dict(zip(filenames, contents))    \n",
    "    \n",
    "\n",
    "    # Clean and tokenize text (note that you may want to retain case and sentence delimiters)\n",
    "    # Remove punctuation characters\n",
    "    import pdb;pdb.set_trace()\n",
    "    for key, val in contents_dict.items():\n",
    "        contents_dict[key]= re.sub(r\"[^a-zA-Z0-9]\", \" \", val).split()\n",
    "        words= contents_dict[key]\n",
    "        counts= collections.Counter()\n",
    "        counts.update(words)\n",
    "        total_counts= sum(counts.values())\n",
    "        \n",
    "        \n",
    "        # unigram probabilities       \n",
    "        #unigrams= [words[i] for i in range(len(words) - 1)]\n",
    "        for key, val in counts.items():\n",
    "            counts[key]\n",
    "        \n",
    "        \n",
    "    \n",
    "        # bigram probabilities\n",
    "        bigrams = [(words[i], words[i + 1]) for i in range(len(words) - 1)]\n",
    "        #p_bigrams= \n",
    "\n",
    "    return unigrams, bigrams"
   ]
  },
  {
   "cell_type": "code",
   "execution_count": 9,
   "metadata": {
    "collapsed": true
   },
   "outputs": [],
   "source": [
    "def generate_sequence(p_unigrams, p_bigrams, num_words=100, seed_word=None):\n",
    "    \"\"\"Generate a random sequence of words, given unigram and bigram probabilities.\"\"\"\n",
    "\n",
    "    # If seed_word is not given, pick one randomly based on unigram probabilities\n",
    "    if seed_word is None:\n",
    "        seed_word = random.choices(list(p_unigrams.keys()), weights=list(p_unigrams.values()))[0]\n",
    "    seq = [seed_word]\n",
    "    for i in range(num_words):\n",
    "        seq.append(random.choices(list(p_bigrams[seq[-1]].keys()), weights=list(p_bigrams[seq[-1]].values()))[0])\n",
    "    return seq"
   ]
  },
  {
   "cell_type": "code",
   "execution_count": 10,
   "metadata": {
    "collapsed": false
   },
   "outputs": [
    {
     "name": "stdout",
     "output_type": "stream",
     "text": [
      "> <ipython-input-8-46b1d0742dd1>(35)compute_bigram_model()\n",
      "-> if isinstance(files, str):\n",
      "(Pdb) c\n",
      "> <ipython-input-8-46b1d0742dd1>(48)compute_bigram_model()\n",
      "-> for key, val in contents_dict.items():\n",
      "(Pdb) n\n",
      "> <ipython-input-8-46b1d0742dd1>(49)compute_bigram_model()\n",
      "-> contents_dict[key]= re.sub(r\"[^a-zA-Z0-9]\", \" \", val).split()\n",
      "(Pdb) n\n",
      "> <ipython-input-8-46b1d0742dd1>(50)compute_bigram_model()\n",
      "-> words= contents_dict[key]\n",
      "(Pdb) n\n",
      "> <ipython-input-8-46b1d0742dd1>(51)compute_bigram_model()\n",
      "-> counts= collections.Counter()\n",
      "(Pdb) n\n",
      "> <ipython-input-8-46b1d0742dd1>(52)compute_bigram_model()\n",
      "-> counts.update(words)\n",
      "(Pdb) n\n",
      "> <ipython-input-8-46b1d0742dd1>(53)compute_bigram_model()\n",
      "-> total_counts= sum(counts.values())\n",
      "(Pdb) n\n",
      "> <ipython-input-8-46b1d0742dd1>(62)compute_bigram_model()\n",
      "-> bigrams = [(words[i], words[i + 1]) for i in range(len(words) - 1)]\n",
      "(Pdb) counts\n",
      "Counter({'the': 1527, 'and': 802, 'to': 725, 'a': 615, 'I': 545, 'it': 527, 'she': 509, 'of': 500, 'said': 456, 'Alice': 396, 'in': 357, 'was': 352, 'you': 345, 'that': 275, 'as': 246, 'her': 243, 't': 216, 'at': 202, 's': 195, 'on': 189, 'had': 177, 'with': 175, 'all': 173, 'be': 145, 'for': 140, 'but': 133, 'they': 129, 'not': 129, 'very': 126, 'little': 125, 'so': 124, 'out': 116, 'this': 113, 'The': 108, 'he': 101, 'down': 99, 'up': 98, 'is': 97, 'one': 94, 'his': 94, 'about': 94, 'what': 93, 'them': 88, 'know': 87, 'were': 85, 'like': 84, 'went': 83, 'again': 83, 'herself': 83, 'if': 78, 'or': 76, 'Queen': 74, 'thought': 74, 'could': 73, 'have': 73, 'then': 72, 'would': 70, 'no': 69, 'when': 69, 'do': 68, 'time': 68, 'into': 67, 'And': 67, 'see': 66, 'there': 65, 'It': 64, 'off': 62, 'me': 61, 'King': 61, 'did': 60, 'Turtle': 59, 'm': 58, 'began': 58, 'can': 57, 'way': 56, 'its': 56, 'Mock': 56, 'll': 56, 'my': 55, 'Gryphon': 55, 'by': 55, 'Hatter': 55, 'quite': 53, 'your': 53, 'an': 52, 'don': 51, 'much': 51, 'say': 51, 'You': 51, 'head': 50, 'think': 50, 'their': 50, 'thing': 49, 'now': 48, 'some': 48, 'who': 48, 'voice': 47, 'more': 47, 'only': 47, 'go': 47, 'Rabbit': 45, 'got': 45, 'just': 45, 'looked': 45, 'first': 44, 'get': 44, 'are': 44, 've': 43, 'never': 42, 'Duchess': 42, 'What': 42, 'must': 41, 'round': 41, 'which': 41, 'how': 40, 'over': 40, 'came': 40, 'tone': 40, 'such': 40, 'well': 40, 'Dormouse': 40, 'other': 40, 'here': 39, 'She': 39, 'any': 39, 'him': 39, 'great': 39, 're': 38, 'been': 38, 'back': 38, 'after': 37, 'But': 37, 'before': 36, 'Oh': 35, 'March': 34, 'from': 34, 'There': 33, 'large': 33, 'looking': 32, 'two': 32, 'last': 32, 'things': 31, 'once': 31, 'put': 31, 'moment': 31, 'long': 31, 'Hare': 31, 'Mouse': 30, 'right': 30, 'heard': 30, 'door': 30, 'found': 30, 'nothing': 30, 'made': 30, 'eyes': 29, 'replied': 29, 'day': 29, 'three': 28, 'dear': 28, 'might': 28, 'look': 28, 'next': 28, 'tell': 27, 'make': 27, 'Why': 27, 'going': 27, 'That': 27, 'How': 27, 'So': 27, 'Caterpillar': 27, 'd': 27, 'seemed': 27, 'should': 27, 'course': 26, 'without': 26, 'good': 26, 'upon': 26, 'won': 26, 'Cat': 26, 'too': 25, 'away': 25, 'come': 25, 'poor': 25, 'rather': 25, 'soon': 24, 'will': 24, 'took': 23, 'we': 23, 'than': 23, 'same': 23, 'felt': 23, 'added': 23, 'shall': 23, 'Well': 23, 'another': 22, 'half': 22, 'jury': 22, 'White': 22, 'getting': 22, 'Then': 21, 'yet': 21, 'minute': 21, 'till': 21, 'find': 21, 'They': 21, 'Come': 21, 'words': 21, 'wish': 21, 'ever': 20, 'hand': 20, 'He': 20, 'sure': 20, 'No': 20, 'while': 20, 'sort': 20, 'cried': 20, 'curious': 19, 'being': 19, 'tried': 19, 'feet': 19, 'anything': 19, 'take': 18, 'wonder': 18, 'enough': 18, 'tea': 18, 'house': 18, 'use': 18, 'even': 17, 'spoke': 17, 'end': 17, 'side': 17, 'asked': 17, 'old': 17, 'A': 17, 'sat': 17, 'court': 17, 'question': 17, 'As': 17, 'something': 17, 'This': 17, 'table': 17, 'eat': 17, 'under': 16, 'ran': 16, 'talking': 16, 'hastily': 16, 'turned': 16, 'If': 16, 'Bill': 16, 'doesn': 16, 'garden': 16, 'bit': 16, 'am': 16, 'air': 15, 'seen': 15, 'saying': 15, 'Who': 15, 'indeed': 15, 'low': 15, 'idea': 15, 'done': 15, 'arm': 15, 'YOU': 15, 'called': 15, 'high': 15, 'face': 15, 'better': 14, 'anxiously': 14, 'near': 14, 'mouse': 14, 'left': 14, 'knew': 14, 'hear': 14, 'mad': 14, 'remember': 14, 'talk': 14, 'saw': 14, 'trying': 14, 'beginning': 14, 'set': 14, 'sea': 14, 'both': 14, 'itself': 14, 'us': 14, 'didn': 14, 'baby': 14, 'Dinah': 14, 'perhaps': 14, 'ought': 14, 'because': 14, 'room': 13, 'Dodo': 13, 'THAT': 13, 'speak': 13, 'kept': 13, 'gave': 13, 'people': 13, 'dance': 13, 'certainly': 13, 'cook': 13, 'change': 13, 'grow': 13, 'Do': 13, 'behind': 13, 'Soup': 13, 'size': 13, 'cats': 13, 'gone': 13, 'through': 13, 'VERY': 13, 'For': 13, 'please': 13, 'whole': 13, 'used': 13, 'far': 13, 'close': 13, 'why': 13, 'However': 13, 'every': 12, 'turning': 12, 'queer': 12, 'life': 12, 'deal': 12, 'everything': 12, 'still': 12, 'begin': 12, 'many': 12, 'among': 12, 'Majesty': 12, 'suddenly': 12, 'suppose': 12, 'wouldn': 12, 'always': 12, 'Yes': 12, 'else': 12, 'game': 12, 'Now': 12, 'try': 12, 'hands': 12, 'CHAPTER': 12, 'afraid': 12, 'finished': 12, 'Here': 11, 'wasn': 11, 'child': 11, 'Let': 11, 'cat': 11, 'growing': 11, 'may': 11, 'hurried': 11, 'waited': 11, 'Footman': 11, 'hardly': 11, 'these': 11, 'In': 11, 'hurry': 11, 'glad': 11, 'Off': 11, 'really': 11, 'ask': 11, 'gloves': 11, 'Of': 11, 'silence': 11, 'let': 11, 'makes': 11, 'Pigeon': 11, 'book': 11, 'whether': 11, 'minutes': 11, 'glass': 10, 'mean': 10, 'though': 10, 'mouth': 10, 'best': 10, 'box': 10, 'trial': 10, 'When': 10, 'name': 10, 'opened': 10, 'yourself': 10, 'We': 10, 'tears': 10, 'nearly': 10, 'where': 10, 'bottle': 10, 'rest': 10, 'thinking': 10, 'read': 10, 'oh': 10, 'remarked': 10, 'pool': 10, 'having': 10, 'children': 10, 'sitting': 10, 'fan': 10, 'small': 10, 'creatures': 10, 'offended': 10, 'remark': 10, 'sight': 10, 'word': 10, 'walked': 10, 'lessons': 10, 'witness': 10, 'conversation': 10, 'soldiers': 10, 'own': 10, 'repeated': 10, 'join': 9, 'angrily': 9, 'shook': 9, 'give': 9, 'want': 9, 'keep': 9, 'answer': 9, 'rate': 9, 'matter': 9, 'mind': 9, 'against': 9, 'butter': 9, 'together': 9, 'birds': 9, 'hall': 9, 'shouted': 9, 'Knave': 9, 'couldn': 9, 'those': 9, 'different': 9, 'tail': 9, 'Don': 9, 'help': 9, 'foot': 9, 'reason': 9, 'heads': 9, 'least': 9, 'believe': 9, 'timidly': 9, 'either': 9, 'At': 9, 'Not': 9, 'continued': 9, 'few': 9, 'interrupted': 9, 'key': 9, 'puzzled': 9, 'party': 9, 'sister': 9, 'pig': 9, 'four': 8, 'dry': 8, 'changed': 8, 'moral': 8, 'work': 8, 'turn': 8, 'croquet': 8, 'top': 8, 'distance': 8, 'seem': 8, 'eagerly': 8, 'explain': 8, 'appeared': 8, 'mushroom': 8, 'opportunity': 8, 'live': 8, 'wood': 8, 'window': 8, 'happen': 8, 'place': 8, 'white': 8, 'bright': 8, 'asleep': 8, 'IS': 8, 'running': 8, 'whiting': 8, 'followed': 8, 'beautiful': 8, 'coming': 8, 'gardeners': 8, 'hard': 8, 'feel': 8, 'play': 8, 'most': 8, 'lying': 8, 'tree': 8, 'ready': 8, 'meaning': 8, 'nose': 8, 'waiting': 8, 'making': 8, 'slates': 8, 'Which': 8, 'haven': 8, 'fact': 8, 'Would': 8, 'slowly': 8, 'noticed': 8, 'tired': 7, 'golden': 7, 'Lory': 7, 'hot': 7, 'each': 7, 'listen': 7, 'feeling': 7, 'mine': 7, 'watch': 7, 'however': 7, 'grown': 7, 'NOT': 7, 'First': 7, 'frightened': 7, 'generally': 7, 'Just': 7, 'goes': 7, 'ground': 7, 'wondering': 7, 'oop': 7, 'chin': 7, 'YOUR': 7, 'happened': 7, 'begun': 7, 'open': 7, 'silent': 7, 'hedgehog': 7, 'middle': 7, 'bread': 7, 'world': 7, 'business': 7, 'deep': 7, 'puppy': 7, 'important': 7, 'fall': 7, 'stood': 7, 'eye': 7, 'learn': 7, 'history': 7, 'dream': 7, 'leave': 7, 'story': 7, 'fancy': 7, 'kind': 7, 'trees': 7, 'others': 7, 'ME': 7, 'Soo': 7, 'lobsters': 7, 'surprised': 7, 'draw': 7, 'song': 7, 'larger': 7, 'Cheshire': 7, 'manage': 7, 'our': 7, 'neck': 7, 'beg': 7, 'pleased': 7, 'hadn': 7, 'THE': 7, 'hair': 7, 'isn': 7, 'Five': 7, 'pardon': 6, 'sleep': 6, 'school': 6, 'told': 6, 'leaves': 6, 'arms': 6, 'hold': 6, 'roof': 6, 'serpent': 6, 'Will': 6, 'executed': 6, 'writing': 6, 'William': 6, 'exclaimed': 6, 'subject': 6, 'has': 6, 'ear': 6, 'sneezing': 6, 'fell': 6, 'trouble': 6, 'English': 6, 'along': 6, 'marked': 6, 'tarts': 6, 'shoes': 6, 'dreadfully': 6, 'nice': 6, 'jumped': 6, 'evidence': 6, 'myself': 6, 'politely': 6, 'broken': 6, 'full': 6, 'pocket': 6, 'sharp': 6, 'loud': 6, 'late': 6, 'fish': 6, 'executioner': 6, 'Hearts': 6, 'chimney': 6, 'youth': 6, 'forgotten': 6, 'liked': 6, 'grin': 6, 'nonsense': 6, 'himself': 6, 'inches': 6, 'e': 6, 'WHAT': 6, 'melancholy': 6, 'fetch': 6, 'sir': 6, 'sit': 6, 'Lizard': 6, 'pigs': 6, 'trembling': 6, 'times': 6, 'One': 6, 'After': 6, 'guinea': 6, 'written': 6, 'S': 6, 'almost': 6, 'ARE': 6, 'does': 6, 'pepper': 6, 'Two': 6, 'piece': 6, 'repeat': 6, 'understand': 6, 'swam': 5, 'likely': 5, 'shriek': 5, 'evening': 5, 'WOULD': 5, 'wrong': 5, 'curiosity': 5, 'All': 5, 'aloud': 5, 'Please': 5, 'nobody': 5, 'altogether': 5, 'twice': 5, 'ears': 5, 'finger': 5, 'confusion': 5, 'drew': 5, 'faces': 5, 'height': 5, 'Tell': 5, 'kid': 5, 'sentence': 5, 'sleepy': 5, 'night': 5, 'asking': 5, 'call': 5, 'until': 5, 'temper': 5, 'surprise': 5, 'Where': 5, 'sighed': 5, 'reply': 5, 'water': 5, 'impatiently': 5, 'everybody': 5, 'angry': 5, 'dropped': 5, 'write': 5, 'man': 5, 'interesting': 5, 'M': 5, 'stupid': 5, 'speaking': 5, 'Seven': 5, 'hookah': 5, 'pair': 5, 'knee': 5, 'walking': 5, 'shrill': 5, 'between': 5, 'morning': 5, 'Lobster': 5, 'across': 5, 'whispered': 5, 'notice': 5, 'direction': 5, 'case': 5, 'sudden': 5, 'finish': 5, 'seems': 5, 'dare': 5, 'stand': 5, 'quietly': 5, 'moved': 5, 'waving': 5, 'ten': 5, 'clock': 5, 'shouldn': 5, 'nine': 5, 'crowded': 5, 'somebody': 5, 'SHE': 5, 'passed': 5, 'procession': 5, 'eggs': 5, 'sometimes': 5, 'nervous': 5, 'Beautiful': 5, 'While': 5, 'simple': 5, 'pack': 5, 'shan': 5, 'cut': 5, 'treacle': 5, 'often': 5, 'twinkle': 5, 'remembered': 5, 'Ah': 5, 'An': 5, 'sounded': 5, 'rabbit': 5, 'young': 5, 'race': 5, 'sing': 5, 'stop': 5, 'doing': 5, 'Very': 5, 'shut': 5, 'sadly': 5, 'exactly': 5, 'nearer': 5, 'meant': 5, 'means': 5, 'taking': 5, 'walk': 5, 'instantly': 5, 'strange': 5, 'usual': 5, 'sky': 5, 'flamingo': 5, 'become': 5, 'home': 5, 'happens': 5, 'stay': 5, 'worth': 4, 'new': 4, 'hers': 4, 'ventured': 4, 'hole': 4, 'ONE': 4, 'jumping': 4, 'lay': 4, 'green': 4, 'Mabel': 4, 'crumbs': 4, 'slate': 4, 'taught': 4, 'Hold': 4, 'wanted': 4, 'days': 4, 'hearing': 4, 'thoughtfully': 4, 'master': 4, 'solemnly': 4, 'begins': 4, 'decidedly': 4, 'earth': 4, 'mouths': 4, 'frowning': 4, 'HAVE': 4, 'twinkling': 4, 'kitchen': 4, 'players': 4, 'several': 4, 'verses': 4, 'yer': 4, 'judge': 4, 'shoulder': 4, 'Are': 4, 'dead': 4, 'bottom': 4, 'bats': 4, 'crowd': 4, 'escape': 4, 'vanished': 4, 'HE': 4, 'managed': 4, 'passage': 4, 'answered': 4, 'Nothing': 4, 'says': 4, 'sigh': 4, 'honour': 4, 'Said': 4, 'soup': 4, 'confused': 4, 'natural': 4, 'creature': 4, 'care': 4, 'fast': 4, 'argument': 4, 'Call': 4, 'corner': 4, 'busily': 4, 'Sure': 4, 'suppressed': 4, 'breath': 4, 'WAS': 4, 'IT': 4, 'rose': 4, 'except': 4, 'thimble': 4, 'twelve': 4, 'Mary': 4, 'shrinking': 4, 'mice': 4, 'grass': 4, 'pointing': 4, 'Take': 4, 'dish': 4, 'sound': 4, 'deeply': 4, 'hours': 4, 'difficulty': 4, 'taken': 4, 'stick': 4, 'particular': 4, 'none': 4, 'lives': 4, 'CAN': 4, 'short': 4, 'ootiful': 4, 'shore': 4, 'held': 4, 'paper': 4, 'since': 4, 'fallen': 4, 'porpoise': 4, 'number': 4, 'bowed': 4, 'officers': 4, 'With': 4, 'reach': 4, 'plan': 4, 'fond': 4, 'pictures': 4, 'wow': 4, 'alone': 4, 'verse': 4, 'fire': 4, 'violently': 4, 'Quadrille': 4, 'person': 4, 'questions': 4, 'On': 4, 'pale': 4, 'savage': 4, 'jurymen': 4, 'ordered': 4, 'puzzling': 4, 'sides': 4, 'age': 4, 'ALL': 4, 'severely': 4, 'verdict': 4, 'uncomfortable': 4, 'capital': 4, 'led': 4, 'French': 4, 'doubt': 4, 'sharply': 4, 'carried': 4, 'animals': 4, 'arches': 4, 'paws': 4, 'THIS': 4, 'sobs': 4, 'jurors': 4, 'perfectly': 4, 'fear': 4, 'fellow': 4, 'COULD': 4, 'indignantly': 4, 'otherwise': 4, 'second': 4, 'shoulders': 4, 'Ann': 4, 'adventures': 4, 'Beau': 4, 'drink': 4, 'By': 4, 'tongue': 4, 'screamed': 4, 'tiny': 4, 'beat': 4, 'girl': 4, 'Never': 4, 'chance': 4, 'grunted': 4, 'rule': 4, 'hanging': 3, 'music': 3, 'Go': 3, 'Give': 3, 'solemn': 3, 'poison': 3, 'above': 3, 'met': 3, 'Wonderland': 3, 'besides': 3, 'brought': 3, 'guests': 3, 'breathe': 3, 'hurt': 3, 'elbow': 3, 'order': 3, 'bank': 3, 'telescope': 3, 'sounds': 3, 'sighing': 3, 'free': 3, 'moving': 3, 'girls': 3, 'legs': 3, 'dogs': 3, 'Consider': 3, 'friend': 3, 'grave': 3, 'dog': 3, 'notion': 3, 'execution': 3, 'folded': 3, 'bat': 3, 'decided': 3, 'sorts': 3, 'pity': 3, 'beheaded': 3, 'Twinkle': 3, 'catch': 3, 'mistake': 3, 'growl': 3, 'unfortunate': 3, 'delight': 3, 'settled': 3, 'Thank': 3, 'spectacles': 3, 'possibly': 3, 'crown': 3, 'confusing': 3, 'Nobody': 3, 'serpents': 3, 'o': 3, 'true': 3, 'howling': 3, 'guessed': 3, 'floor': 3, 'handed': 3, 'holding': 3, 'Exactly': 3, 'Adventures': 3, 'turns': 3, 'WILL': 3, 'filled': 3, 'Tortoise': 3, 'hoarse': 3, 'My': 3, 'Caucus': 3, 'voices': 3, 'Time': 3, 'fly': 3, 'Down': 3, 'nursing': 3, 'figure': 3, 'succeeded': 3, 'tale': 3, 'civil': 3, 'roses': 3, 'tucked': 3, 'tails': 3, 'em': 3, 'bringing': 3, 'advance': 3, 'impossible': 3, 'checked': 3, 'caught': 3, 'alas': 3, 'venture': 3, 'cards': 3, 'tasted': 3, 'remained': 3, 'sad': 3, 'themselves': 3, 'considered': 3, 'later': 3, 'hungry': 3, 'show': 3, 'watching': 3, 'Drawling': 3, 'Turn': 3, 'unimportant': 3, 'miles': 3, 'teacup': 3, 'cautiously': 3, 'reading': 3, 'repeating': 3, 'cakes': 3, 'loudly': 3, 'considering': 3, 'mark': 3, 'Serpent': 3, 'paw': 3, 'speech': 3, 'week': 3, 'Owl': 3, 'Is': 3, 'grinned': 3, 'sulky': 3, 'Her': 3, 'real': 3, 'around': 3, 'lady': 3, 'mustard': 3, 'knife': 3, 'throw': 3, 'longer': 3, 'certain': 3, 'general': 3, 'remarks': 3, 'whiskers': 3, 'sobbing': 3, 'faster': 3, 'hunting': 3, 'worse': 3, 'list': 3, 'joined': 3, 'past': 3, 'Only': 3, 'further': 3, 'nurse': 3, 'directions': 3, 'Silence': 3, 'kick': 3, 'gravely': 3, 'sense': 3, 'advantage': 3, 'footman': 3, 'pleaded': 3, 'hedgehogs': 3, 'easily': 3, 'stopped': 3, 'dears': 3, 'expecting': 3, 'slipped': 3, 'Panther': 3, 'knocking': 3, 'guess': 3, 'stairs': 3, 'picked': 3, 'livery': 3, 'finding': 3, 'carefully': 3, 'courage': 3, 'cry': 3, 'wrote': 3, 'THINK': 3, 'AND': 3, 'simply': 3, 'lived': 3, 'boy': 3, 'fur': 3, 'forgetting': 3, 'pressed': 3, 'fun': 3, 'Miss': 3, 'swim': 3, 'hoping': 3, 'MUST': 3, 'Eaglet': 3, 'funny': 3, 'rules': 3, 'grand': 3, 'snail': 3, 'yesterday': 3, 'timid': 3, 'dark': 3, 'anxious': 3, 'edge': 3, 'listening': 3, 'eager': 3, 'Did': 3, 'pattering': 3, 'shaped': 3, 'OF': 3, 'chorus': 3, 'Pray': 3, 'obliged': 3, 'remarking': 3, 'candle': 3, 'run': 3, 'O': 3, 'needn': 3, 'letter': 3, 'lesson': 3, 'suit': 3, 'alive': 3, 'dull': 3, 'peeped': 3, 'Perhaps': 3, 'prizes': 3, 'outside': 3, 'putting': 3, 'TO': 3, 'smaller': 3, 'nibbling': 3, 'cheered': 3, 'crossed': 3, 'plate': 3, 'pieces': 3, 'trumpet': 3, 'instead': 3, 'HIM': 3, 'move': 3, 'mentioned': 3, 'crash': 3, 'toes': 3, 'shaking': 3, 'upset': 3, 'cause': 3, 'attending': 3, 'Duck': 3, 'Pat': 3, 'gently': 3, 'instance': 3, 'knowledge': 3, 'hope': 3, 'muttering': 3, 'Once': 3, 'stuff': 3, 'tossing': 3, 'opening': 3, 'staring': 3, 'present': 3, 'cross': 3, 'effect': 3, 'Yet': 3, 'Have': 3, 'less': 3, 'immediately': 3, 'lost': 3, 'proper': 3, 'passion': 3, 'noise': 3, 'choked': 3, 'follows': 3, 'spread': 3, 'below': 3, 'cake': 3, 'whisper': 3, 'pie': 3, 'muchness': 3, 'secondly': 2, 'Does': 2, 'ringlets': 2, 'hate': 2, 'assembled': 2, 'whose': 2, 'presents': 2, 'Mystery': 2, 'meekly': 2, 'dreadful': 2, 'Hush': 2, 'barrowful': 2, 'changes': 2, 'feelings': 2, 'keeping': 2, 'excellent': 2, 'extraordinary': 2, 'law': 2, 'lap': 2, 'wink': 2, 'Speak': 2, 'wind': 2, 'wine': 2, 'somewhere': 2, 'lefthand': 2, 'safe': 2, 'ALICE': 2, 'Longitude': 2, 'break': 2, 'Wow': 2, 'forgot': 2, 'Latitude': 2, 'persisted': 2, 'laid': 2, 'stamping': 2, 'love': 2, 'shelves': 2, 'messages': 2, 'footsteps': 2, 'bite': 2, 'already': 2, 'encouraging': 2, 'wash': 2, 'uneasily': 2, 'wildly': 2, 'shower': 2, 'sorrow': 2, 'manner': 2, 'Crab': 2, 'Mercia': 2, 'tells': 2, 'thoroughly': 2, 'NEVER': 2, 'doors': 2, 'laughed': 2, 'regular': 2, 'alarm': 2, 'sun': 2, 'ending': 2, 'sugar': 2, 'squeaking': 2, 'shutting': 2, 'cushion': 2, 'nicely': 2, 'bad': 2, 'blew': 2, 'miserable': 2, 'pebbles': 2, 'claws': 2, 'interrupting': 2, 'weak': 2, 'picking': 2, 'accident': 2, 'ill': 2, 'cup': 2, 'royal': 2, 'shouting': 2, 'quarrelling': 2, 'lovely': 2, 'threw': 2, 'doth': 2, 'ugly': 2, 'forehead': 2, 'plates': 2, 'thoughts': 2, 'matters': 2, 'Mind': 2, 'humbly': 2, 'yours': 2, 'belongs': 2, 'easy': 2, 'D': 2, 'flamingoes': 2, 'usually': 2, 'goldfish': 2, 'denied': 2, 'beating': 2, 'pinched': 2, 'burn': 2, 'disappeared': 2, 'dinner': 2, 'raised': 2, 'wasting': 2, 'delighted': 2, 'cauldron': 2, 'offer': 2, 'removed': 2, 'WILLIAM': 2, 'scream': 2, 'proud': 2, 'proved': 2, 'TWO': 2, 'tis': 2, 'beds': 2, 'longed': 2, 'treading': 2, 'milk': 2, 'row': 2, 'father': 2, 'unpleasant': 2, 'fancied': 2, 'brown': 2, 'choice': 2, 'feeble': 2, 'cool': 2, 'appear': 2, 'falling': 2, 'Ma': 2, 'sending': 2, 'wherever': 2, 'useful': 2, 'merely': 2, 'somersault': 2, 'These': 2, 'dispute': 2, 'heart': 2, 'Fury': 2, 'yawning': 2, 'thump': 2, 'lonely': 2, 'sooner': 2, 'Rome': 2, 'nor': 2, 'entirely': 2, 'goose': 2, 'catching': 2, 'year': 2, 'living': 2, 'invitation': 2, 'note': 2, 'directly': 2, 'ring': 2, 'fight': 2, 'mostly': 2, 'snatch': 2, 'editions': 2, 'flowers': 2, 'wide': 2, 'apples': 2, 'wandering': 2, 'Northumbria': 2, 'anger': 2, 'wandered': 2, 'neatly': 2, 'salt': 2, 'trembled': 2, 'curled': 2, 'coaxing': 2, 'hedge': 2, 'concert': 2, 'label': 2, 'quiet': 2, 'blasts': 2, 'personal': 2, 'railway': 2, 'sulkily': 2, 'comes': 2, 'afterwards': 2, 'singers': 2, 'stretched': 2, 'learning': 2, 'constant': 2, 'custody': 2, 'Pepper': 2, 'cares': 2, 'wonderful': 2, 'thousand': 2, 'invited': 2, 'Edwin': 2, 'triumphantly': 2, 'changing': 2, 'IF': 2, 'summer': 2, 'violent': 2, 'blow': 2, 'dipped': 2, 'hint': 2, 'struck': 2, 'ornamented': 2, 'earls': 2, 'THEY': 2, 'lobster': 2, 'Wake': 2, 'mixed': 2, 'legged': 2, 'jaws': 2, 'rush': 2, 'tiptoe': 2, 'tones': 2, 'agree': 2, 'fright': 2, 'taste': 2, 'watched': 2, 'sneeze': 2, 'Pennyworth': 2, 'forget': 2, 'caused': 2, 'month': 2, 'follow': 2, 'remarkable': 2, 'wants': 2, 'crimson': 2, 'smile': 2, 'woman': 2, 'washing': 2, 'turtles': 2, 'sang': 2, 'fashion': 2, 'stoop': 2, 'hasn': 2, 'SAID': 2, 'UNimportant': 2, 'narrow': 2, 'proceed': 2, 'rubbing': 2, 'flat': 2, 'wretched': 2, 'knows': 2, 'Ugh': 2, 'broke': 2, 'Found': 2, 'hour': 2, 'sent': 2, 'Your': 2, 'DRINK': 2, 'rude': 2, 'purring': 2, 'pleasure': 2, 'playing': 2, 'smiling': 2, 'roots': 2, 'rapidly': 2, 'unrolled': 2, 'executions': 2, 'heavy': 2, 'flower': 2, 'missed': 2, 'twenty': 2, 'recovered': 2, 'part': 2, 'kindly': 2, 'declare': 2, 'Father': 2, 'sell': 2, 'lie': 2, 'dancing': 2, 'relief': 2, 'extremely': 2, 'clear': 2, 'Explain': 2, 'fine': 2, 'Poor': 2, 'unhappy': 2, 'experiment': 2, 'Prizes': 2, 'hit': 2, 'nibbled': 2, 'throwing': 2, 'bark': 2, 'learnt': 2, 'knowing': 2, 'riddles': 2, 'Fish': 2, 'became': 2, 'drunk': 2, 'whatever': 2, 'unfolded': 2, 'patiently': 2, 'Uglification': 2, 'collected': 2, 'HER': 2, 'Conqueror': 2, 'straight': 2, 'leaning': 2, 'Tis': 2, 'Morcar': 2, 'beautifully': 2, 'LITTLE': 2, 'shorter': 2, 'cucumber': 2, 'older': 2, 'T': 2, 'using': 2, 'also': 2, 'crying': 2, 'showing': 2, 'entangled': 2, 'eel': 2, 'names': 2, 'hurriedly': 2, 'Pig': 2, 'nowhere': 2, 'comfits': 2, 'within': 2, 'Everything': 2, 'GAVE': 2, 'atom': 2, 'line': 2, 'directed': 2, 'pencil': 2, 'Digging': 2, 'May': 2, 'occurred': 2, 'smiled': 2, 'ago': 2, 'splashing': 2, 'cupboards': 2, 'panting': 2, 'spoon': 2, 'rattling': 2, 'telling': 2, 'concluded': 2, 'sensation': 2, 'boots': 2, 'giving': 2, 'bird': 2, 'body': 2, 'chose': 2, 'beasts': 2, 'CHORUS': 2, 'wig': 2, 'addressed': 2, 'doubtfully': 2, 'singing': 2, 'Presently': 2, 'archbishop': 2, 'frog': 2, 'clever': 2, 'started': 2, 'carrying': 2, 'locks': 2, 'meet': 2, 'ferrets': 2, 'bend': 2, 'courtiers': 2, 'animal': 2, 'allow': 2, 'Really': 2, 'six': 2, 'doubtful': 2, 'bye': 2, 'Can': 2, 'front': 2, 'delightful': 2, 'sneezes': 2, 'Next': 2, 'books': 2, 'red': 2, 'sorrowful': 2, 'QUITE': 2, 'undertone': 2, 'ordering': 2, 'examine': 2, 'muttered': 2, 'explanation': 2, 'branches': 2, 'yawned': 2, 'thistle': 2, 'Treacle': 2, 'throat': 2, 'dishes': 2, 'FIT': 2, 'unless': 2, 'prisoner': 2, 'deny': 2, 'takes': 2, 'Some': 2, 'absurd': 2, 'painting': 2, 'Everybody': 2, 'Paris': 2, 'FATHER': 2, 'bring': 2, 'BEST': 2, 'pause': 2, 'jar': 2, 'smallest': 2, 'bear': 2, 'Keep': 2, 'closed': 2, 'neither': 2, 'OLD': 2, 'Get': 2, 'smoking': 2, 'wild': 2, 'advisable': 2, 'MORE': 2, 'brightened': 2, 'tumbling': 2, 'digging': 2, 'difficult': 2, 'introduce': 2, 'sisters': 2, 'position': 2, 'raving': 2, 'taller': 2, 'distant': 2, 'parchment': 2, 'Be': 2, 'wet': 2, 'earnestly': 2, 'knot': 2, 'authority': 2, 'Up': 2, 'ashamed': 2, 'swimming': 2, 'quickly': 2, 'startled': 2, 'MINE': 2, 'fountains': 2, 'Suppose': 2, 'contemptuously': 2, 'wise': 2, 'places': 2, 'scroll': 2, 'signed': 2, 'stirring': 2, 'resting': 2, 'twist': 2, 'tempered': 2, 'trotting': 2, 'Shall': 2, 'conclusion': 2, 'giddy': 2, 'teacups': 2, 'friends': 2, 'lasted': 2, 'Tut': 1, 'saves': 1, 'knelt': 1, 'oldest': 1, 'consider': 1, 'YOURS': 1, 'inwards': 1, 'sorry': 1, 'Nearly': 1, 'mournful': 1, 'rise': 1, 'fireplace': 1, 'prize': 1, 'wooden': 1, 'pinch': 1, 'NEAR': 1, 'favoured': 1, 'leaders': 1, 'feathers': 1, 'BEG': 1, 'BEE': 1, 'elegant': 1, 'louder': 1, 'machines': 1, 'shining': 1, 'VOICE': 1, 'hide': 1, 'pace': 1, 'thunder': 1, 'weren': 1, 'Game': 1, 'conduct': 1, 'wrapping': 1, 'protection': 1, 'cardboard': 1, 'daughter': 1, 'Herald': 1, 'smoke': 1, 'grumbled': 1, 'explained': 1, 'patience': 1, 'drowned': 1, 'punching': 1, 'blacking': 1, 'insult': 1, 'overhead': 1, 'leant': 1, 'peeping': 1, 'Rule': 1, 'adjourn': 1, 'locked': 1, 'worm': 1, 'obstacle': 1, 'rosetree': 1, 'Visit': 1, 'flung': 1, 'returned': 1, 'Tillie': 1, 'complaining': 1, 'agony': 1, 'LL': 1, 'returning': 1, 'Jack': 1, 'III': 1, 'Zealand': 1, 'poker': 1, 'flustered': 1, 'lad': 1, 'ladder': 1, 'attempt': 1, 'childhood': 1, 'wriggling': 1, 'sprawling': 1, 'Talking': 1, 'dreamed': 1, 'thin': 1, 'executes': 1, 'TRUE': 1, 'His': 1, 'chatte': 1, 'fit': 1, 'fix': 1, 'fig': 1, 'glanced': 1, 'weeks': 1, 'Him': 1, 'overcome': 1, 'caterpillar': 1, 'Antipathies': 1, 'interrupt': 1, 'pegs': 1, 'MYSELF': 1, 'meat': 1, 'Indeed': 1, 'alternately': 1, 'leading': 1, 'eleventh': 1, 'roast': 1, 'bone': 1, 'calmly': 1, 'series': 1, 'SOME': 1, 'dodged': 1, 'vote': 1, 'BOOTS': 1, 'flock': 1, 'RETURNED': 1, 'reminding': 1, 'velvet': 1, 'tales': 1, 'fellows': 1, 'Maybe': 1, 'Hole': 1, 'splashed': 1, 'given': 1, 'whereupon': 1, 'W': 1, 'mallets': 1, 'telescopes': 1, 'Chorus': 1, 'enormous': 1, 'ate': 1, 'FUL': 1, 'cackled': 1, 'pence': 1, 'hopeless': 1, 'purpose': 1, 'EVERYBODY': 1, 'enjoy': 1, 'dunce': 1, 'curiouser': 1, 'thick': 1, 'awfully': 1, 'airs': 1, 'bitter': 1, 'consented': 1, 'ceiling': 1, 'positively': 1, 'character': 1, 'coward': 1, 'Carroll': 1, 'seated': 1, 'splendidly': 1, 'flame': 1, 'askance': 1, 'chrysalis': 1, 'shyly': 1, 'modern': 1, 'rat': 1, 'strength': 1, 'subjects': 1, 'gravy': 1, 'plenty': 1, 'hearts': 1, 'Lewis': 1, 'ridiculous': 1, 'SLUGGARD': 1, 'currants': 1, 'pardoned': 1, 'officer': 1, 'pope': 1, 'crust': 1, 'retire': 1, 'sage': 1, 'attempts': 1, 'toast': 1, 'grunt': 1, 'spite': 1, 'deepest': 1, 'disgust': 1, 'cartwheels': 1, 'coast': 1, 'Quick': 1, 'frying': 1, 'nasty': 1, 'learned': 1, 'rumbling': 1, 'licking': 1, 'softly': 1, 'explanations': 1, 'steam': 1, 'fair': 1, 'depends': 1, 'flashed': 1, 'cattle': 1, 'Hardly': 1, 'mournfully': 1, 'Run': 1, 'Fifteenth': 1, 'THAN': 1, 'unable': 1, 'LOVE': 1, 'Edgar': 1, 'camomile': 1, 'received': 1, 'country': 1, 'jelly': 1, 'games': 1, 'argue': 1, 'lullaby': 1, 'wider': 1, 'FENDER': 1, 'chimneys': 1, 'interest': 1, 'schoolroom': 1, 'expected': 1, 'natured': 1, 'wags': 1, 'twinkled': 1, 'uncommon': 1, 'teapot': 1, 'WAISTCOAT': 1, 'lessen': 1, 'tastes': 1, 'CURTSEYING': 1, 'neat': 1, 'stopping': 1, 'remembering': 1, 'seven': 1, 'WASHING': 1, 'played': 1, 'HATED': 1, 'Write': 1, 'gloomily': 1, 'clinging': 1, 'Nay': 1, 'severity': 1, 'Stop': 1, 'linked': 1, 'vegetable': 1, 'couple': 1, 'bells': 1, 'fairly': 1, 'VE': 1, 'VI': 1, 'tops': 1, 'dozing': 1, 'hearth': 1, 'humble': 1, 'Mine': 1, 'impertinent': 1, 'Table': 1, 'farther': 1, 'yes': 1, 'adding': 1, 'cherry': 1, 'Or': 1, 'prison': 1, 'save': 1, 'hat': 1, 'mayn': 1, 'dreamy': 1, 'afore': 1, 'burnt': 1, 'sorrows': 1, 'appearing': 1, 'uncivil': 1, 'seaside': 1, 'hung': 1, 'Stole': 1, 'Idiot': 1, 'somehow': 1, 'clubs': 1, 'Stigand': 1, 'straightening': 1, 'bore': 1, 'creep': 1, 'denies': 1, 'purple': 1, 'lamps': 1, 'losing': 1, 'bowing': 1, 'permitted': 1, 'wept': 1, 'theirs': 1, 'newspapers': 1, 'choke': 1, 'Evidence': 1, 'despair': 1, 'Still': 1, 'Birds': 1, 'sob': 1, 'puzzle': 1, 'son': 1, 'respectable': 1, 'PLENTY': 1, 'balanced': 1, 'cleared': 1, 'wag': 1, 'Hand': 1, 'happy': 1, 'fork': 1, 'waistcoat': 1, 'form': 1, 'attempted': 1, 'becoming': 1, 'failure': 1, 'heap': 1, 'boon': 1, 'flavour': 1, 'rippling': 1, 'inside': 1, 'Whoever': 1, 'unusually': 1, 'Sir': 1, 'sticks': 1, 'screaming': 1, 'Sit': 1, 'fury': 1, 'Twenty': 1, 'muscular': 1, 'drive': 1, 'promised': 1, 'accounting': 1, 'Begin': 1, 'beheading': 1, 'setting': 1, 'tie': 1, 'EAT': 1, 'saucepans': 1, 'picture': 1, 'ESQ': 1, 'pronounced': 1, 'ointment': 1, 'welcome': 1, 'Drive': 1, 'HOW': 1, 'ridges': 1, 'inkstand': 1, 'unlocking': 1, 'died': 1, 'spades': 1, 'cheated': 1, 'contemptuous': 1, 'push': 1, 'chain': 1, 'untwist': 1, 'V': 1, 'WE': 1, 'invent': 1, 'crocodile': 1, 'mile': 1, 'chair': 1, 'terror': 1, 'circumstances': 1, 'jogged': 1, 'Anything': 1, 'SOMEWHERE': 1, 'Hm': 1, 'hatter': 1, 'stays': 1, 'ma': 1, 'presented': 1, 'dig': 1, 'brother': 1, 'Atheling': 1, 'settle': 1, 'quick': 1, 'teaching': 1, 'scaly': 1, 'prevent': 1, 'brave': 1, 'stupidly': 1, 'tougher': 1, 'sign': 1, 'cost': 1, 'dried': 1, 'eating': 1, 'helpless': 1, 'irritated': 1, 'axes': 1, 'lazily': 1, 'Imagine': 1, 'growls': 1, 'partners': 1, 'twentieth': 1, 'yards': 1, 'wait': 1, 'lazy': 1, 'EVER': 1, 'Dear': 1, 'shifting': 1, 'quarrel': 1, 'Elsie': 1, 'SWIM': 1, 'morals': 1, 'extra': 1, 'hopeful': 1, 'inquisitively': 1, 'puffed': 1, 'Therefore': 1, 'quiver': 1, 'swallowed': 1, 'Australia': 1, 'driest': 1, 'teeth': 1, 'ORANGE': 1, 'today': 1, 'loving': 1, 'roared': 1, 'entrance': 1, 'Puss': 1, 'flying': 1, 'Sh': 1, 'teases': 1, 'ignorant': 1, 'deserved': 1, 'pretend': 1, 'PLEASE': 1, 'sour': 1, 'Our': 1, 'laughter': 1, 'slightest': 1, 'Ground': 1, 'crazy': 1, 'frontispiece': 1, 'paused': 1, 'counting': 1, 'stole': 1, 'pink': 1, 'winter': 1, 'fortunately': 1, 'buttered': 1, 'pine': 1, 'fourth': 1, 'axis': 1, 'Always': 1, 'dive': 1, 'annoyed': 1, 'spot': 1, 'crashed': 1, 'birthday': 1, 'tipped': 1, 'scrambling': 1, 'maybe': 1, 'daisies': 1, 'suet': 1, 'crept': 1, 'offend': 1, 'arrived': 1, 'pulled': 1, 'recognised': 1, 'comfort': 1, 'seeing': 1, 'pointed': 1, 'years': 1, 'quarrelled': 1, 'shake': 1, 'argued': 1, 'cold': 1, 'limbs': 1, 'thank': 1, 'curly': 1, 'curls': 1, 'conversations': 1, 'bound': 1, 'underneath': 1, 'EVEN': 1, 'Stand': 1, 'execute': 1, 'Their': 1, 'truthful': 1, 'drop': 1, 'rock': 1, 'scolded': 1, 'eh': 1, 'bursting': 1, 'beloved': 1, 'SOMEBODY': 1, 'worried': 1, 'irons': 1, 'canvas': 1, 'Suppress': 1, 'abide': 1, 'seriously': 1, 'housemaid': 1, 'juror': 1, 'attended': 1, 'state': 1, 'cart': 1, 'wits': 1, 'Either': 1, 'Shy': 1, 'reasonable': 1, 'honest': 1, 'Even': 1, 'beauti': 1, 'spoken': 1, 'merrily': 1, 'carry': 1, 'tomorrow': 1, 'cheerfully': 1, 'sheep': 1, 'Repeat': 1, 'arch': 1, 'waist': 1, 'trampled': 1, 'shiver': 1, 'Such': 1, 'eyed': 1, 'addressing': 1, 'snorting': 1, 'tulip': 1, 'downwards': 1, 'rudeness': 1, 'emphasis': 1, 'Half': 1, 'Writhing': 1, 'haste': 1, 'encouraged': 1, 'butterfly': 1, 'altered': 1, 'Ahem': 1, 'opposite': 1, 'clearer': 1, 'zigzag': 1, 'POCKET': 1, 'printed': 1, 'educations': 1, 'pencils': 1, 'fills': 1, 'egg': 1, 'Certainly': 1, 'steady': 1, 'managing': 1, 'joys': 1, 'stockings': 1, 'cheap': 1, 'fifth': 1, 'BUSY': 1, 'nodded': 1, 'histories': 1, 'toffee': 1, 'HEARTHRUG': 1, 'XII': 1, 'HAD': 1, 'whiles': 1, 'cannot': 1, 'Right': 1, 'resource': 1, 'Sends': 1, 'seldom': 1, 'finishing': 1, 'YET': 1, 'declared': 1, 'burst': 1, 'fanned': 1, 'ways': 1, 'hiss': 1, 'tut': 1, 'queerest': 1, 'killing': 1, 'blame': 1, 'Each': 1, 'FOOT': 1, 'croqueted': 1, 'dates': 1, 'Lacie': 1, 'stupidest': 1, 'disappointment': 1, 'expression': 1, 'riddle': 1, 'loveliest': 1, 'THESE': 1, 'pot': 1, 'pop': 1, 'accusation': 1, 'uglify': 1, 'Luckily': 1, 'punished': 1, 'judging': 1, 'engine': 1, 'Involved': 1, 'flurry': 1, 'folding': 1, 'sobbed': 1, 'PERSONS': 1, 'warning': 1, 'slippery': 1, 'promising': 1, 'squeezed': 1, 'shrieks': 1, 'engaged': 1, 'couples': 1, 'heels': 1, 'Grammar': 1, 'worry': 1, 'pan': 1, 'IX': 1, 'IV': 1, 'II': 1, 'IN': 1, 'passing': 1, 'complained': 1, 'traps': 1, 'Curiouser': 1, 'crossly': 1, 'fidgeted': 1, 'growled': 1, 'kill': 1, 'touch': 1, 'exclamation': 1, 'speed': 1, 'Arithmetic': 1, 'death': 1, 'Advice': 1, 'Multiplication': 1, 'Change': 1, 'kills': 1, 'desperately': 1, 'lowing': 1, 'Nile': 1, 'Tale': 1, 'Magpie': 1, 'vague': 1, 'tremulous': 1, 'Shark': 1, 'pounds': 1, 'draggled': 1, 'shrink': 1, 'sternly': 1, 'London': 1, 'downward': 1, 'passionate': 1, 'reduced': 1, 'Before': 1, 'Seaography': 1, 'shillings': 1, 'respect': 1, 'New': 1, 'moon': 1, 'expressing': 1, 'moderate': 1, 'turkey': 1, 'arrow': 1, 'forepaws': 1, 'subdued': 1, 'violence': 1, 'shrimp': 1, 'chop': 1, 'boldly': 1, 'journey': 1, 'act': 1, 'Laughing': 1, 'imitated': 1, 'Heads': 1, 'appealed': 1, 'burning': 1, 'trot': 1, 'spreading': 1, 'lifted': 1, 'PROVES': 1, 'rising': 1, 'Ada': 1, 'happening': 1, 'NO': 1, 'attends': 1, 'mischief': 1, 'jug': 1, 'THERE': 1, 'Canterbury': 1, 'feather': 1, 'arranged': 1, 'bawled': 1, 'men': 1, 'horse': 1, 'tremble': 1, 'Swim': 1, 'rubbed': 1, 'Read': 1, 'field': 1, 'oneself': 1, 'inquired': 1, 'uncorked': 1, 'whistling': 1, 'brass': 1, 'applause': 1, 'wife': 1, 'tricks': 1, 'sharks': 1, 'strings': 1, 'growling': 1, 'snout': 1, 'SIT': 1, 'conger': 1, 'content': 1, 'ravens': 1, 'encourage': 1, 'laughing': 1, 'fat': 1, 'toss': 1, 'minded': 1, 'hatching': 1, 'Canary': 1, 'sand': 1, 'familiarly': 1, 'quicker': 1, 'rats': 1, 'Number': 1, 'pass': 1, 'grinning': 1, 'Latin': 1, 'darkness': 1, 'stool': 1, 'skirt': 1, 'loose': 1, 'answers': 1, 'affectionately': 1, 'handwriting': 1, 'search': 1, 'stretching': 1, 'soldier': 1, 'murdering': 1, 'family': 1, 'clapping': 1, 'usurpation': 1, 'Tears': 1, 'Too': 1, 'RABBIT': 1, 'toys': 1, 'thatched': 1, 'RED': 1, 'readily': 1, 'injure': 1, 'faint': 1, 'splash': 1, 'Coming': 1, 'possible': 1, 'OUT': 1, 'company': 1, 'known': 1, 'producing': 1, 'cunning': 1, 'gazing': 1, 'pleasing': 1, 'Tarts': 1, 'remain': 1, 'pressing': 1, 'knocked': 1, 'furrows': 1, 'feebly': 1, 'rustled': 1, 'share': 1, 'condemn': 1, 'needs': 1, 'maps': 1, 'occasionally': 1, 'THROUGH': 1, 'Improve': 1, 'skurried': 1, 'advice': 1, 'HIGH': 1, 'eats': 1, 'shade': 1, 'banks': 1, 'incessantly': 1, 'Same': 1, 'existence': 1, 'fanning': 1, 'forwards': 1, 'exact': 1, 'buttercup': 1, 'actually': 1, 'absence': 1, 'parts': 1, 'speaker': 1, 'arguments': 1, 'ye': 1, 'noticing': 1, 'rattle': 1, 'fluttered': 1, 'someone': 1, 'die': 1, 'fairy': 1, 'pleasanter': 1, 'harm': 1, 'begged': 1, 'upstairs': 1, 'banquet': 1, 'accidentally': 1, 'Waiting': 1, 'scratching': 1, 'wondered': 1, 'rearing': 1, 'pigeon': 1, 'trusts': 1, 'snappishly': 1, 'nest': 1, 'pun': 1, 'crouched': 1, 'pleasant': 1, 'houses': 1, 'imagine': 1, 'rises': 1, 'thrown': 1, 'pairs': 1, 'curtsey': 1, 'terribly': 1, 'daisy': 1, 'COURT': 1, 'dinn': 1, 'shilling': 1, 'Croquet': 1, 'miss': 1, 'paint': 1, 'station': 1, 'hundred': 1, 'XI': 1, 'relieved': 1, 'uncommonly': 1, 'immediate': 1, 'luckily': 1, 'Long': 1, 'SHOES': 1, 'king': 1, 'grew': 1, 'bag': 1, 'double': 1, 'grey': 1, 'Collar': 1, 'spirited': 1, 'charges': 1, 'stalk': 1, 'treated': 1, 'Shakespeare': 1, 'Coils': 1, 'Leave': 1, 'dainties': 1, 'murder': 1, 'fading': 1, 'commotion': 1, 'lit': 1, 'swallowing': 1, 'breeze': 1, 'reality': 1, 'eaten': 1, 'oyster': 1, 'FROM': 1, 'mineral': 1, 'WATCH': 1, 'clean': 1, 'daresay': 1, 'languid': 1, 'idiotic': 1, 'Has': 1, 'rocket': 1, 'grazed': 1, 'justice': 1, 'sharing': 1, 'unwillingly': 1, 'pretty': 1, 'circle': 1, 'Pool': 1, 'meanwhile': 1, 'Ambition': 1, 'TOOK': 1, 'whistle': 1, 'hid': 1, 'pretending': 1, 'shared': 1, 'Suddenly': 1, 'doubled': 1, 'common': 1, 'engraved': 1, 'signify': 1, 'France': 1, 'hoarsely': 1, 'clasped': 1, 'feared': 1, 'See': 1, 'SOUP': 1, 'various': 1, 'guilt': 1, 'arrum': 1, 'kneel': 1, 'meal': 1, 'vanishing': 1, 'fitted': 1, 'dismay': 1, 'finds': 1, 'tittered': 1, 'sentenced': 1, 'sweet': 1, 'manners': 1, 'hollow': 1, 'likes': 1, 'supple': 1, 'Was': 1, 'acceptance': 1, 'whom': 1, 'secret': 1, 'dropping': 1, 'Soles': 1, 'meeting': 1, 'empty': 1, 'boxed': 1, '1865': 1, 'Fetch': 1, 'furrow': 1, 'raw': 1, 'solid': 1, 'Dinn': 1, 'bill': 1, 'Boots': 1, 'rope': 1, 'Seals': 1, 'righthand': 1, 'choking': 1, 'grant': 1, 'belong': 1, 'advise': 1, 'eels': 1, 'desks': 1, 'patriotic': 1, 'flown': 1, 'lower': 1, 'Between': 1, 'grins': 1, 'Stolen': 1, 'morsel': 1, 'shape': 1, 'DON': 1, 'Sixteenth': 1, 'cur': 1, 'kissed': 1, 'Brandy': 1, 'remaining': 1, 'Distraction': 1, 'Last': 1, 'Stretching': 1, 'Ou': 1, 'wings': 1, 'BEFORE': 1, 'knock': 1, 'DOES': 1, 'provoking': 1, 'OURS': 1, 'foolish': 1, 'walrus': 1, 'Little': 1, 'duck': 1, 'understood': 1, 'lips': 1, 'towards': 1, 'capering': 1, 'ourselves': 1, 'saucer': 1, 'scale': 1, 'pet': 1, 'stingy': 1, 'lark': 1, 'Look': 1, 'refused': 1, 'ache': 1, 'bristling': 1, 'wore': 1, 'prove': 1, 'straightened': 1, 'MILE': 1, 'naturedly': 1, 'shiny': 1, 'bleeds': 1, 'undoing': 1, 'conquest': 1, 'piteous': 1, 'frames': 1, 'Shan': 1, 'signifies': 1, 'consultation': 1, 'prettier': 1, 'memory': 1, 'hoped': 1, 'upright': 1, 'raising': 1, 'hush': 1, 'Soon': 1, 'accustomed': 1, 'Those': 1, 'proves': 1, 'yelled': 1, 'To': 1, 'skimming': 1, 'graceful': 1, 'denying': 1, 'corners': 1, 'backs': 1, 'occasional': 1, 'afford': 1, 'Mad': 1, 'tart': 1, 'brushing': 1, 'energetic': 1, 'favourite': 1, 'faintly': 1, 'AT': 1, 'fishes': 1, 'land': 1, 'Reeling': 1, 'ledge': 1, 'impatient': 1, 'neighbouring': 1, 'sixpence': 1, 'peering': 1, 'send': 1, 'Grief': 1, 'Nor': 1, 'memorandum': 1, 'flinging': 1, 'squeaked': 1, 'Stuff': 1, 'drinking': 1, 'Classics': 1, 'magic': 1, 'respectful': 1, 'stiff': 1, 'shock': 1, 'tunnel': 1, 'insolence': 1, 'uncomfortably': 1, 'odd': 1, 'croqueting': 1, 'diamonds': 1, 'squeeze': 1, 'Alas': 1, 'poky': 1, 'upsetting': 1, 'believed': 1, 'busy': 1, 'sink': 1, 'invented': 1, 'fifteen': 1, 'settling': 1, 'vinegar': 1, 'uneasy': 1, 'Back': 1, 'leaving': 1, 'simpleton': 1, 'opinion': 1, 'climb': 1, 'examining': 1, 'apple': 1, 'win': 1, 'disobey': 1, 'WHATEVER': 1, 'lodging': 1, 'Trims': 1, 'standing': 1, 'processions': 1, 'crab': 1, 'doubling': 1, 'cheeks': 1, 'throne': 1, 'rich': 1, 'inclined': 1, 'Behead': 1, 'labelled': 1, 'annoy': 1, 'account': 1, 'balls': 1, 'panted': 1, 'QUEEN': 1, 'shrieked': 1, 'pour': 1, 'anywhere': 1, 'VIII': 1, 'bent': 1, 'reeds': 1, 'lock': 1, 'dripping': 1, 'pulling': 1, 'bones': 1, 'Party': 1, 'onions': 1, 'Christmas': 1, 'contempt': 1, 'curving': 1, 'Drink': 1, 'evidently': 1, 'delay': 1, 'furiously': 1, 'pretexts': 1, 'farm': 1, 'waters': 1, 'thunderstorm': 1, 'tied': 1, 'doze': 1, 'Allow': 1, 'minding': 1, 'fits': 1, 'terrier': 1, 'patted': 1, 'noises': 1, 'lines': 1, 'chief': 1, 'crawling': 1, 'furious': 1, 'Kings': 1, 'flapper': 1, 'bathing': 1, 'closely': 1, 'Story': 1, 'produced': 1, 'X': 1, 'WITH': 1, 'Hjckrrh': 1, 'Normans': 1, 'Sing': 1, 'Queens': 1, 'practice': 1, 'muddle': 1, 'flew': 1, 'cutting': 1, 'kiss': 1, 'VII': 1, 'sneezed': 1, 'MARMALADE': 1, 'tureen': 1, 'truth': 1, 'accounts': 1, 'brush': 1, 'footmen': 1, 'From': 1, 'globe': 1, 'dreaming': 1, 'Frog': 1, 'sands': 1, 'thirteen': 1, 'measure': 1, 'Fainting': 1, 'wander': 1, 'uglifying': 1, 'hatters': 1, 'eyelids': 1, 'barley': 1, 'oblong': 1, 'undo': 1, 'completely': 1, 'Stupid': 1, 'yard': 1, 'gallons': 1, 'Though': 1, 'rustling': 1, 'length': 1, 'trickling': 1, 'clamour': 1, 'plainly': 1, 'blown': 1, 'pitied': 1, 'soothing': 1, 'howled': 1, 'blows': 1, 'ancient': 1, 'vulgar': 1, 'KNOW': 1, 'shepherd': 1, 'handsome': 1, 'HERE': 1, 'bother': 1, 'submitted': 1, 'beautify': 1, 'whenever': 1, 'listeners': 1, 'Lastly': 1, 'ITS': 1, 'result': 1, 'tidy': 1, 'comfortable': 1, 'tide': 1, 'comfortably': 1, 'wearily': 1, 'clearly': 1, 'bough': 1, 'able': 1, 'sh': 1, 'blades': 1, 'centre': 1, 'THEIR': 1, 'Somebody': 1, 'alarmed': 1, 'RIGHT': 1, 'flappers': 1, 'gather': 1, 'affair': 1, 'pleases': 1, 'planning': 1, 'chanced': 1, 'jaw': 1, 'LESS': 1, 'buttons': 1, 'Catch': 1, 'HEARTS': 1, 'fumbled': 1, 'roughly': 1, 'indignant': 1, 'prosecute': 1, 'listened': 1, 'ones': 1, 'beak': 1, 'Because': 1, 'Ten': 1, 'brain': 1, 'calling': 1, 'Tea': 1, 'rapped': 1, 'fixed': 1, 'OUTSIDE': 1, 'shedding': 1, 'Thinking': 1, 'frame': 1, 'salmon': 1, 'C': 1, 'LEAVE': 1, 'desperate': 1, 'terms': 1, 'closer': 1, 'Good': 1, 'pattern': 1, 'difficulties': 1, 'bed': 1, 'hurrying': 1, 'Race': 1, 'DOTH': 1, 'shingle': 1, 'doorway': 1, 'figures': 1, 'swallow': 1, 'THEN': 1, 'laugh': 1, 'thanked': 1, 'immense': 1, 'poured': 1, 'treat': 1, 'frighten': 1, 'curtain': 1, 'proposal': 1, 'waste': 1, 'remedies': 1, 'farmer': 1, 'neighbour': 1, 'PRECIOUS': 1, 'holiday': 1, 'appearance': 1, 'Nonsense': 1, 'riper': 1, 'Hadn': 1, 'helped': 1, 'Derision': 1, 'partner': 1, 'sits': 1, 'tumbled': 1, 'Wouldn': 1, 'denial': 1, 'Bring': 1, 'largest': 1, 'glaring': 1, 'twelfth': 1, 'elbows': 1, 'spell': 1, 'disagree': 1, 'beast': 1, 'nevertheless': 1, 'fighting': 1, 'trials': 1, 'drawing': 1, 'lest': 1, 'BE': 1, 'barking': 1, 'fancying': 1, 'TIS': 1, 'cries': 1, 'unjust': 1, 'tight': 1, 'reasons': 1, 'adoption': 1, 'marched': 1, 'raven': 1, 'branch': 1, 'whispers': 1, 'five': 1, 'desk': 1, 'audibly': 1, 'England': 1, 'sizes': 1, 'crawled': 1, 'chuckled': 1, 'lose': 1, 'works': 1, 'soft': 1, 'Forty': 1, 'choosing': 1, 'KING': 1, 'est': 1, 'avoid': 1, 'kettle': 1, 'leap': 1, 'SOMETHING': 1, 'saucepan': 1, 'belt': 1, 'chains': 1, 'reaching': 1, 'contradicted': 1, 'gained': 1, 'Sounds': 1, 'tray': 1, 'HIS': 1, 'carrier': 1, 'introduced': 1, 'letters': 1, 'guard': 1, 'promise': 1, 'custard': 1, 'knuckles': 1, 'ridge': 1, 'rushed': 1, 'rightly': 1, 'powdered': 1, 'highest': 1, 'Sentence': 1, 'variations': 1, 'placed': 1, 'woke': 1, 'diligently': 1, 'rabbits': 1, 'ink': 1, 'gay': 1, 'dressed': 1, 'lately': 1, 'Besides': 1, 'Pinch': 1, 'hippopotamus': 1, 'star': 1, 'Like': 1, 'refreshments': 1, 'yelp': 1, 'INSIDE': 1, 'tinkling': 1, 'pictured': 1, 'hedges': 1, 'extras': 1, 'Fourteenth': 1, 'baked': 1, 'Geography': 1})\n",
      "(Pdb) quit\n"
     ]
    },
    {
     "ename": "BdbQuit",
     "evalue": "",
     "output_type": "error",
     "traceback": [
      "\u001b[0;31m\u001b[0m",
      "\u001b[0;31mBdbQuit\u001b[0mTraceback (most recent call last)",
      "\u001b[0;32m<ipython-input-10-5227cd7845c9>\u001b[0m in \u001b[0;36m<module>\u001b[0;34m()\u001b[0m\n\u001b[0;32m----> 1\u001b[0;31m \u001b[0mcompute_bigram_model\u001b[0m\u001b[1;33m(\u001b[0m\u001b[0mpath\u001b[0m\u001b[1;33m=\u001b[0m\u001b[1;34m'.'\u001b[0m\u001b[1;33m,\u001b[0m \u001b[0mfiles\u001b[0m\u001b[1;33m=\u001b[0m\u001b[1;33m[\u001b[0m\u001b[1;34m'carroll-alice.txt'\u001b[0m\u001b[1;33m]\u001b[0m\u001b[1;33m)\u001b[0m\u001b[1;33m\u001b[0m\u001b[0m\n\u001b[0m",
      "\u001b[0;32m<ipython-input-8-46b1d0742dd1>\u001b[0m in \u001b[0;36mcompute_bigram_model\u001b[0;34m(path, files)\u001b[0m\n\u001b[1;32m     60\u001b[0m \u001b[1;33m\u001b[0m\u001b[0m\n\u001b[1;32m     61\u001b[0m         \u001b[1;31m# bigram probabilities\u001b[0m\u001b[1;33m\u001b[0m\u001b[1;33m\u001b[0m\u001b[0m\n\u001b[0;32m---> 62\u001b[0;31m         \u001b[0mbigrams\u001b[0m \u001b[1;33m=\u001b[0m \u001b[1;33m[\u001b[0m\u001b[1;33m(\u001b[0m\u001b[0mwords\u001b[0m\u001b[1;33m[\u001b[0m\u001b[0mi\u001b[0m\u001b[1;33m]\u001b[0m\u001b[1;33m,\u001b[0m \u001b[0mwords\u001b[0m\u001b[1;33m[\u001b[0m\u001b[0mi\u001b[0m \u001b[1;33m+\u001b[0m \u001b[1;36m1\u001b[0m\u001b[1;33m]\u001b[0m\u001b[1;33m)\u001b[0m \u001b[1;32mfor\u001b[0m \u001b[0mi\u001b[0m \u001b[1;32min\u001b[0m \u001b[0mrange\u001b[0m\u001b[1;33m(\u001b[0m\u001b[0mlen\u001b[0m\u001b[1;33m(\u001b[0m\u001b[0mwords\u001b[0m\u001b[1;33m)\u001b[0m \u001b[1;33m-\u001b[0m \u001b[1;36m1\u001b[0m\u001b[1;33m)\u001b[0m\u001b[1;33m]\u001b[0m\u001b[1;33m\u001b[0m\u001b[0m\n\u001b[0m\u001b[1;32m     63\u001b[0m         \u001b[1;31m#p_bigrams=\u001b[0m\u001b[1;33m\u001b[0m\u001b[1;33m\u001b[0m\u001b[0m\n\u001b[1;32m     64\u001b[0m \u001b[1;33m\u001b[0m\u001b[0m\n",
      "\u001b[0;32m<ipython-input-8-46b1d0742dd1>\u001b[0m in \u001b[0;36mcompute_bigram_model\u001b[0;34m(path, files)\u001b[0m\n\u001b[1;32m     60\u001b[0m \u001b[1;33m\u001b[0m\u001b[0m\n\u001b[1;32m     61\u001b[0m         \u001b[1;31m# bigram probabilities\u001b[0m\u001b[1;33m\u001b[0m\u001b[1;33m\u001b[0m\u001b[0m\n\u001b[0;32m---> 62\u001b[0;31m         \u001b[0mbigrams\u001b[0m \u001b[1;33m=\u001b[0m \u001b[1;33m[\u001b[0m\u001b[1;33m(\u001b[0m\u001b[0mwords\u001b[0m\u001b[1;33m[\u001b[0m\u001b[0mi\u001b[0m\u001b[1;33m]\u001b[0m\u001b[1;33m,\u001b[0m \u001b[0mwords\u001b[0m\u001b[1;33m[\u001b[0m\u001b[0mi\u001b[0m \u001b[1;33m+\u001b[0m \u001b[1;36m1\u001b[0m\u001b[1;33m]\u001b[0m\u001b[1;33m)\u001b[0m \u001b[1;32mfor\u001b[0m \u001b[0mi\u001b[0m \u001b[1;32min\u001b[0m \u001b[0mrange\u001b[0m\u001b[1;33m(\u001b[0m\u001b[0mlen\u001b[0m\u001b[1;33m(\u001b[0m\u001b[0mwords\u001b[0m\u001b[1;33m)\u001b[0m \u001b[1;33m-\u001b[0m \u001b[1;36m1\u001b[0m\u001b[1;33m)\u001b[0m\u001b[1;33m]\u001b[0m\u001b[1;33m\u001b[0m\u001b[0m\n\u001b[0m\u001b[1;32m     63\u001b[0m         \u001b[1;31m#p_bigrams=\u001b[0m\u001b[1;33m\u001b[0m\u001b[1;33m\u001b[0m\u001b[0m\n\u001b[1;32m     64\u001b[0m \u001b[1;33m\u001b[0m\u001b[0m\n",
      "\u001b[0;32mC:\\Users\\Andrew\\Anaconda2\\lib\\bdb.pyc\u001b[0m in \u001b[0;36mtrace_dispatch\u001b[0;34m(self, frame, event, arg)\u001b[0m\n\u001b[1;32m     47\u001b[0m             \u001b[1;32mreturn\u001b[0m \u001b[1;31m# None\u001b[0m\u001b[1;33m\u001b[0m\u001b[0m\n\u001b[1;32m     48\u001b[0m         \u001b[1;32mif\u001b[0m \u001b[0mevent\u001b[0m \u001b[1;33m==\u001b[0m \u001b[1;34m'line'\u001b[0m\u001b[1;33m:\u001b[0m\u001b[1;33m\u001b[0m\u001b[0m\n\u001b[0;32m---> 49\u001b[0;31m             \u001b[1;32mreturn\u001b[0m \u001b[0mself\u001b[0m\u001b[1;33m.\u001b[0m\u001b[0mdispatch_line\u001b[0m\u001b[1;33m(\u001b[0m\u001b[0mframe\u001b[0m\u001b[1;33m)\u001b[0m\u001b[1;33m\u001b[0m\u001b[0m\n\u001b[0m\u001b[1;32m     50\u001b[0m         \u001b[1;32mif\u001b[0m \u001b[0mevent\u001b[0m \u001b[1;33m==\u001b[0m \u001b[1;34m'call'\u001b[0m\u001b[1;33m:\u001b[0m\u001b[1;33m\u001b[0m\u001b[0m\n\u001b[1;32m     51\u001b[0m             \u001b[1;32mreturn\u001b[0m \u001b[0mself\u001b[0m\u001b[1;33m.\u001b[0m\u001b[0mdispatch_call\u001b[0m\u001b[1;33m(\u001b[0m\u001b[0mframe\u001b[0m\u001b[1;33m,\u001b[0m \u001b[0marg\u001b[0m\u001b[1;33m)\u001b[0m\u001b[1;33m\u001b[0m\u001b[0m\n",
      "\u001b[0;32mC:\\Users\\Andrew\\Anaconda2\\lib\\bdb.pyc\u001b[0m in \u001b[0;36mdispatch_line\u001b[0;34m(self, frame)\u001b[0m\n\u001b[1;32m     66\u001b[0m         \u001b[1;32mif\u001b[0m \u001b[0mself\u001b[0m\u001b[1;33m.\u001b[0m\u001b[0mstop_here\u001b[0m\u001b[1;33m(\u001b[0m\u001b[0mframe\u001b[0m\u001b[1;33m)\u001b[0m \u001b[1;32mor\u001b[0m \u001b[0mself\u001b[0m\u001b[1;33m.\u001b[0m\u001b[0mbreak_here\u001b[0m\u001b[1;33m(\u001b[0m\u001b[0mframe\u001b[0m\u001b[1;33m)\u001b[0m\u001b[1;33m:\u001b[0m\u001b[1;33m\u001b[0m\u001b[0m\n\u001b[1;32m     67\u001b[0m             \u001b[0mself\u001b[0m\u001b[1;33m.\u001b[0m\u001b[0muser_line\u001b[0m\u001b[1;33m(\u001b[0m\u001b[0mframe\u001b[0m\u001b[1;33m)\u001b[0m\u001b[1;33m\u001b[0m\u001b[0m\n\u001b[0;32m---> 68\u001b[0;31m             \u001b[1;32mif\u001b[0m \u001b[0mself\u001b[0m\u001b[1;33m.\u001b[0m\u001b[0mquitting\u001b[0m\u001b[1;33m:\u001b[0m \u001b[1;32mraise\u001b[0m \u001b[0mBdbQuit\u001b[0m\u001b[1;33m\u001b[0m\u001b[0m\n\u001b[0m\u001b[1;32m     69\u001b[0m         \u001b[1;32mreturn\u001b[0m \u001b[0mself\u001b[0m\u001b[1;33m.\u001b[0m\u001b[0mtrace_dispatch\u001b[0m\u001b[1;33m\u001b[0m\u001b[0m\n\u001b[1;32m     70\u001b[0m \u001b[1;33m\u001b[0m\u001b[0m\n",
      "\u001b[0;31mBdbQuit\u001b[0m: "
     ]
    }
   ],
   "source": [
    "compute_bigram_model(path='.', files=['carroll-alice.txt'])"
   ]
  },
  {
   "cell_type": "code",
   "execution_count": null,
   "metadata": {
    "collapsed": false,
    "deletable": true,
    "editable": true
   },
   "outputs": [],
   "source": [
    "def test_run():\n",
    "    # Compute bigram model\n",
    "        p_unigrams, p_bigrams = compute_bigram_model(path='.', files=['carroll-alice.txt'])\n",
    "\n",
    "    # Check most common unigrams (single words)\n",
    "    print(\"10 most common unigrams:\")\n",
    "    sorted_unigrams = sorted(p_unigrams.items(), key=lambda item: item[1], reverse=True)  # each item = (i, count)\n",
    "    for word, count in sorted_unigrams[:10]:\n",
    "        print(\"{}\\t{}\".format(word, count))\n",
    "\n",
    "    # Check most common bigrams (pairs of words)\n",
    "    all_bigrams = [(i, j, count) for i in p_bigrams.keys() for j, count in p_bigrams[i].items()]\n",
    "    sorted_bigrams = sorted(all_bigrams, key=lambda item: item[2], reverse=True)  # each item = (i, j, count)\n",
    "    print(\"10 most common bigrams:\")\n",
    "    for i, j, count in sorted_bigrams[:10]:\n",
    "        print(\"{}\\t{}\\t{}\".format(i, j, count))\n",
    "\n",
    "    # Generate a sample sequence of words\n",
    "    seq = generate_sequence(p_unigrams, p_bigrams, seed_word=\"Alice\")\n",
    "    print(\" \".join(seq))\n",
    "\n",
    "\n",
    "if __name__ == \"__main__\":\n",
    "    test_run()"
   ]
  }
 ],
 "metadata": {
  "anaconda-cloud": {},
  "kernelspec": {
   "display_name": "Python 2",
   "language": "python",
   "name": "python2"
  },
  "language_info": {
   "codemirror_mode": {
    "name": "ipython",
    "version": 2
   },
   "file_extension": ".py",
   "mimetype": "text/x-python",
   "name": "python",
   "nbconvert_exporter": "python",
   "pygments_lexer": "ipython2",
   "version": "2.7.13"
  }
 },
 "nbformat": 4,
 "nbformat_minor": 2
}
