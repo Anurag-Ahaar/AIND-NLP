{
 "cells": [
  {
   "cell_type": "code",
   "execution_count": 28,
   "metadata": {
    "collapsed": false
   },
   "outputs": [
    {
     "name": "stdout",
     "output_type": "stream",
     "text": [
      "Hieroglyphic writing dates from c. 3000 BC, and is composed of hundreds of symbols. A hieroglyph can represent a word, a sound, or a silent determinative; and the same symbol can serve different purposes in different contexts. Hieroglyphs were a formal script, used on stone monuments and in tombs, that could be as detailed as individual works of art.\n",
      "\n",
      "\n",
      "*** hieroglyph.txt ***\n",
      "Hieroglyphic writing dates from c. 3000 BC, and is composed of hundreds of symbols. A hieroglyph can represent a word, a sound, or a silent determinative; and the same symbol can serve different purposes in different contexts. Hieroglyphs were a formal script, used on stone monuments and in tombs, that could be as detailed as individual works of art.\n",
      "\n",
      "\n",
      "*** house-with-chimaeras.txt ***\n",
      "House with Chimaeras or Horodecki House (Ukrainian: Ð‘ÑƒÐ´Ð¸Ð½Ð¾Ðº Ð· Ñ…Ð¸Ð¼ÐµÑ€Ð°Ð¼Ð¸, Budynok z khymeramy) is an Art Nouveau building located in the historic Lypky neighborhood of Kiev, the capital of Ukraine. Situated across the street from the President of Ukraine's office at No. 10, Bankova Street, the building has been used as a presidential residence for official and diplomatic ceremonies since 2005. The street in front of the building is closed off to all automobile traffic, and is now a patrolled pedestrian zone due to its near proximity to the Presidential Administration building.\n",
      "\n",
      "The Polish architect WÅ‚adysÅ‚aw Horodecki originally constructed the House with Chimaeras for use as his own upmarket apartment building during the period of 1901â€“1902. However, as the years went by, Horodecki eventually had to sell the building due to financial troubles, after which it changed ownership numerous times before finally being occupied by an official Communist Party polyclinic until the early 2000s. When the building was vacated, its interior and exterior decor were fully reconstructed and restored according to Horodecki original plans.\n",
      "\n",
      "The building derives its popular name from the ornate decorations depicting exotic animals and hunting scenes, which were sculpted by Italian architect Emilio Sala since Horodecki was an avid hunter. The name does not refer to the chimaera of mythology, but to an architectural style known as chimaera decoration in which animal figures are applied as decorative elements to a building. Horodecki unique architectural style earned him praise as the Antoni GaudÃ­ of Kiev.\n",
      "\n",
      "\n",
      "*** apple.txt ***\n",
      "Apple Inc. is an American multinational technology company headquartered in Cupertino, California that designs, develops, and sells consumer electronics, computer software, and online services. The company's hardware products include the iPhone smartphone, the iPad tablet computer, the Mac personal computer, the iPod portable media player, the Apple Watch smartwatch, and the Apple TV digital media player. Apple's consumer software includes the macOS and iOS operating systems, the iTunes media player, the Safari web browser, and the iLife and iWork creativity and productivity suites. Its online services include the iTunes Store, the iOS App Store and Mac App Store, Apple Music, and iCloud.\n",
      "\n",
      "\n",
      "*** kingfisher.txt ***\n",
      "Kingfishers or Alcedinidae are a family of small to medium-sized, brightly colored birds in the order Coraciiformes. The family contains 114 species and is divided into three subfamilies: river kingfishers (Alcedininae), tree kingfishers (Halcyoninae), and water kingfishers (Cerylinae). All kingfishers have large heads, long, sharp, pointed bills, short legs, and stubby tails. Most species have bright plumage with only small differences between the sexes.\n",
      "\n",
      "\n",
      "*** game-theory.txt ***\n",
      "Game theory is \"the study of mathematical models of conflict and cooperation between intelligent rational decision-makers.\" Game theory is mainly used in economics, political science, and psychology, as well as logic, computer science and biology.\n",
      "\n",
      "Originally, it addressed zero-sum games, in which one person's gains result in losses for the other participants. Today, game theory applies to a wide range of behavioral relations, and is now an umbrella term for the science of logical decision making in humans, animals, and computers.\n",
      "\n"
     ]
    }
   ],
   "source": [
    "\"\"\"Reading in text files.\"\"\"\n",
    "\n",
    "def read_file(filename):\n",
    "    \"\"\"Read a plain text file and return the contents as a string.\"\"\"\n",
    "    with open(filename, 'r') as f:\n",
    "        text= f.read()\n",
    "        return text\n",
    "\n",
    "\n",
    "def read_files(path):\n",
    "    \"\"\"Read all files that match given path and return a dict with their contents.\"\"\"\n",
    "    import glob\n",
    "    import os\n",
    "    \n",
    "    #import pdb;pdb.set_trace()\n",
    "    # Get a list of all files and filenames\n",
    "    file_list= glob.glob(path)   \n",
    "    filenames= [os.path.basename(file_path) for file_path in file_list]\n",
    "    \n",
    "    \n",
    "    # Read each file using read_file()  and place assaemble dict of form { <filename>: <contents> }\n",
    "    contents= [read_file(file_path) for file_path in file_list]\n",
    "    \n",
    "    contents_dict= dict(zip(filenames, contents))\n",
    "    \n",
    "    return contents_dict\n",
    "\n",
    "\n",
    "def test_run():\n",
    "    # Test read_file()\n",
    "    print(read_file(\"data/hieroglyph.txt\"))\n",
    "    \n",
    "    # Test read_files()\n",
    "    texts = read_files(\"data/*.txt\")\n",
    "    for name in texts:\n",
    "        print(\"\\n***\", name, \"***\")\n",
    "        print(texts[name])\n",
    "\n",
    "\n",
    "if __name__ == '__main__':\n",
    "    test_run()\n"
   ]
  },
  {
   "cell_type": "code",
   "execution_count": 12,
   "metadata": {
    "collapsed": false
   },
   "outputs": [],
   "source": [
    "import glob\n",
    "import os"
   ]
  },
  {
   "cell_type": "code",
   "execution_count": 13,
   "metadata": {
    "collapsed": false
   },
   "outputs": [
    {
     "data": {
      "text/plain": [
       "['data\\\\apple.txt',\n",
       " 'data\\\\game-theory.txt',\n",
       " 'data\\\\hieroglyph.txt',\n",
       " 'data\\\\house-with-chimaeras.txt',\n",
       " 'data\\\\kingfisher.txt']"
      ]
     },
     "execution_count": 13,
     "metadata": {},
     "output_type": "execute_result"
    }
   ],
   "source": [
    "glob.glob('data/*txt')"
   ]
  },
  {
   "cell_type": "code",
   "execution_count": 14,
   "metadata": {
    "collapsed": true
   },
   "outputs": [],
   "source": [
    "test_path= 'data/*txt'"
   ]
  },
  {
   "cell_type": "code",
   "execution_count": 15,
   "metadata": {
    "collapsed": false
   },
   "outputs": [],
   "source": [
    "test_file_list= glob.glob(test_path)"
   ]
  },
  {
   "cell_type": "code",
   "execution_count": 17,
   "metadata": {
    "collapsed": false
   },
   "outputs": [
    {
     "data": {
      "text/plain": [
       "['apple.txt',\n",
       " 'game-theory.txt',\n",
       " 'hieroglyph.txt',\n",
       " 'house-with-chimaeras.txt',\n",
       " 'kingfisher.txt']"
      ]
     },
     "execution_count": 17,
     "metadata": {},
     "output_type": "execute_result"
    }
   ],
   "source": [
    "test_filenames= [os.path.basename(file_path) for file_path in test_file_list]\n",
    "test_filenames"
   ]
  },
  {
   "cell_type": "code",
   "execution_count": 19,
   "metadata": {
    "collapsed": true
   },
   "outputs": [],
   "source": [
    "def test_read_file(filename):\n",
    "    \"\"\"Read a plain text file and return the contents as a string.\"\"\"\n",
    "    with open(filename, 'r') as f:\n",
    "        text= f.read()\n",
    "        return text\n"
   ]
  },
  {
   "cell_type": "code",
   "execution_count": 20,
   "metadata": {
    "collapsed": false
   },
   "outputs": [
    {
     "data": {
      "text/plain": [
       "{'apple.txt': 'Kingfishers or Alcedinidae are a family of small to medium-sized, brightly colored birds in the order Coraciiformes. The family contains 114 species and is divided into three subfamilies: river kingfishers (Alcedininae), tree kingfishers (Halcyoninae), and water kingfishers (Cerylinae). All kingfishers have large heads, long, sharp, pointed bills, short legs, and stubby tails. Most species have bright plumage with only small differences between the sexes.\\n',\n",
       " 'game-theory.txt': 'Kingfishers or Alcedinidae are a family of small to medium-sized, brightly colored birds in the order Coraciiformes. The family contains 114 species and is divided into three subfamilies: river kingfishers (Alcedininae), tree kingfishers (Halcyoninae), and water kingfishers (Cerylinae). All kingfishers have large heads, long, sharp, pointed bills, short legs, and stubby tails. Most species have bright plumage with only small differences between the sexes.\\n',\n",
       " 'hieroglyph.txt': 'Kingfishers or Alcedinidae are a family of small to medium-sized, brightly colored birds in the order Coraciiformes. The family contains 114 species and is divided into three subfamilies: river kingfishers (Alcedininae), tree kingfishers (Halcyoninae), and water kingfishers (Cerylinae). All kingfishers have large heads, long, sharp, pointed bills, short legs, and stubby tails. Most species have bright plumage with only small differences between the sexes.\\n',\n",
       " 'house-with-chimaeras.txt': 'Kingfishers or Alcedinidae are a family of small to medium-sized, brightly colored birds in the order Coraciiformes. The family contains 114 species and is divided into three subfamilies: river kingfishers (Alcedininae), tree kingfishers (Halcyoninae), and water kingfishers (Cerylinae). All kingfishers have large heads, long, sharp, pointed bills, short legs, and stubby tails. Most species have bright plumage with only small differences between the sexes.\\n',\n",
       " 'kingfisher.txt': 'Kingfishers or Alcedinidae are a family of small to medium-sized, brightly colored birds in the order Coraciiformes. The family contains 114 species and is divided into three subfamilies: river kingfishers (Alcedininae), tree kingfishers (Halcyoninae), and water kingfishers (Cerylinae). All kingfishers have large heads, long, sharp, pointed bills, short legs, and stubby tails. Most species have bright plumage with only small differences between the sexes.\\n'}"
      ]
     },
     "execution_count": 20,
     "metadata": {},
     "output_type": "execute_result"
    }
   ],
   "source": [
    "{filename: test_read_file(file_path)  for filename in test_filenames for file_path in test_file_list}"
   ]
  },
  {
   "cell_type": "code",
   "execution_count": 27,
   "metadata": {
    "collapsed": false
   },
   "outputs": [
    {
     "data": {
      "text/plain": [
       "[\"Apple Inc. is an American multinational technology company headquartered in Cupertino, California that designs, develops, and sells consumer electronics, computer software, and online services. The company's hardware products include the iPhone smartphone, the iPad tablet computer, the Mac personal computer, the iPod portable media player, the Apple Watch smartwatch, and the Apple TV digital media player. Apple's consumer software includes the macOS and iOS operating systems, the iTunes media player, the Safari web browser, and the iLife and iWork creativity and productivity suites. Its online services include the iTunes Store, the iOS App Store and Mac App Store, Apple Music, and iCloud.\\n\",\n",
       " 'Game theory is \"the study of mathematical models of conflict and cooperation between intelligent rational decision-makers.\" Game theory is mainly used in economics, political science, and psychology, as well as logic, computer science and biology.\\n\\nOriginally, it addressed zero-sum games, in which one person\\'s gains result in losses for the other participants. Today, game theory applies to a wide range of behavioral relations, and is now an umbrella term for the science of logical decision making in humans, animals, and computers.\\n',\n",
       " 'Hieroglyphic writing dates from c. 3000 BC, and is composed of hundreds of symbols. A hieroglyph can represent a word, a sound, or a silent determinative; and the same symbol can serve different purposes in different contexts. Hieroglyphs were a formal script, used on stone monuments and in tombs, that could be as detailed as individual works of art.\\n',\n",
       " \"House with Chimaeras or Horodecki House (Ukrainian: Ð‘ÑƒÐ´Ð¸Ð½Ð¾Ðº Ð· Ñ…Ð¸Ð¼ÐµÑ€Ð°Ð¼Ð¸, Budynok z khymeramy) is an Art Nouveau building located in the historic Lypky neighborhood of Kiev, the capital of Ukraine. Situated across the street from the President of Ukraine's office at No. 10, Bankova Street, the building has been used as a presidential residence for official and diplomatic ceremonies since 2005. The street in front of the building is closed off to all automobile traffic, and is now a patrolled pedestrian zone due to its near proximity to the Presidential Administration building.\\n\\nThe Polish architect WÅ‚adysÅ‚aw Horodecki originally constructed the House with Chimaeras for use as his own upmarket apartment building during the period of 1901â€“1902. However, as the years went by, Horodecki eventually had to sell the building due to financial troubles, after which it changed ownership numerous times before finally being occupied by an official Communist Party polyclinic until the early 2000s. When the building was vacated, its interior and exterior decor were fully reconstructed and restored according to Horodecki original plans.\\n\\nThe building derives its popular name from the ornate decorations depicting exotic animals and hunting scenes, which were sculpted by Italian architect Emilio Sala since Horodecki was an avid hunter. The name does not refer to the chimaera of mythology, but to an architectural style known as chimaera decoration in which animal figures are applied as decorative elements to a building. Horodecki unique architectural style earned him praise as the Antoni GaudÃ\\xad of Kiev.\\n\",\n",
       " 'Kingfishers or Alcedinidae are a family of small to medium-sized, brightly colored birds in the order Coraciiformes. The family contains 114 species and is divided into three subfamilies: river kingfishers (Alcedininae), tree kingfishers (Halcyoninae), and water kingfishers (Cerylinae). All kingfishers have large heads, long, sharp, pointed bills, short legs, and stubby tails. Most species have bright plumage with only small differences between the sexes.\\n']"
      ]
     },
     "execution_count": 27,
     "metadata": {},
     "output_type": "execute_result"
    }
   ],
   "source": [
    "[read_file(file_path) for file_path in test_file_list]"
   ]
  }
 ],
 "metadata": {
  "anaconda-cloud": {},
  "kernelspec": {
   "display_name": "Python [conda env:aind-dl]",
   "language": "python",
   "name": "conda-env-aind-dl-py"
  },
  "language_info": {
   "codemirror_mode": {
    "name": "ipython",
    "version": 3
   },
   "file_extension": ".py",
   "mimetype": "text/x-python",
   "name": "python",
   "nbconvert_exporter": "python",
   "pygments_lexer": "ipython3",
   "version": "3.5.3"
  }
 },
 "nbformat": 4,
 "nbformat_minor": 2
}
